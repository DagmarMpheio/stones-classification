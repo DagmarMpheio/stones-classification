{
 "cells": [
  {
   "cell_type": "code",
   "execution_count": 2,
   "metadata": {},
   "outputs": [
    {
     "name": "stdout",
     "output_type": "stream",
     "text": [
      "C:\\Users\\Dagmar Mpheio\\Documents\\IA Projects\\detencao-doencas-vacas-usando-deep-learning\\dataset\\test\\sem febre aftosa\n",
      "C:\\Users\\Dagmar Mpheio\\Documents\\IA Projects\\detencao-doencas-vacas-usando-deep-learning\\dataset\\train\\sem febre aftosa\n"
     ]
    }
   ],
   "source": [
    "# Aumentar o tamanho do dataset, usando Data Augmentation.\n",
    "# Realizar tambem o recorte, prenchimento, e a rotacao horizontal, zoom, redimensionamento e mais o uso do keras\n",
    "from tensorflow.keras.preprocessing.image import ImageDataGenerator, array_to_img, img_to_array, load_img\n",
    "\n",
    "dataGen = ImageDataGenerator(\n",
    "    rescale=1./255, \n",
    "    fill_mode='nearest' # Modo de preenchimento ao aplicar transformações\n",
    "    )\n",
    "\n",
    "import os\n",
    "print(os.getcwd())\n",
    "# mudar de acordo com o directorio actual\n",
    "os.chdir(r\"C:\\Users\\Dagmar Mpheio\\Documents\\IA Projects\\detencao-doencas-vacas-usando-deep-learning\\dataset\\train\\sem febre aftosa\")\n",
    "print(os.getcwd())#a trabalhar nesse directorio\n",
    "\n",
    "for path in os.listdir():\n",
    "    img=load_img(f\"{path}\")\n",
    "    x=img_to_array(img) #Este eh um array Numpy com forma (3, 150, 150)\n",
    "    x=x.reshape((1,)+x.shape)\n",
    "    i=0\n",
    "\n",
    "    for batch in dataGen.flow(x,batch_size=1,save_to_dir=\".\",save_prefix=\"img\",save_format='jpeg'):\n",
    "        i+=1\n",
    "        #if i>10: #criar 10 imagens form 1 image\n",
    "            #break\n",
    "        if i>19: #criar 4 imagens form 1 image\n",
    "            break\n",
    "\n"
   ]
  }
 ],
 "metadata": {
  "kernelspec": {
   "display_name": "Python 3 (ipykernel)",
   "language": "python",
   "name": "python3"
  },
  "language_info": {
   "codemirror_mode": {
    "name": "ipython",
    "version": 3
   },
   "file_extension": ".py",
   "mimetype": "text/x-python",
   "name": "python",
   "nbconvert_exporter": "python",
   "pygments_lexer": "ipython3",
   "version": "3.9.13"
  },
  "vscode": {
   "interpreter": {
    "hash": "2a24722ff628501e8cf521327313136b74b8a197980fc953880384c1ea89cf59"
   }
  }
 },
 "nbformat": 4,
 "nbformat_minor": 2
}
